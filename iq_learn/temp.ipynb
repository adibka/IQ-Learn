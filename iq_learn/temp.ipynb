{
 "cells": [
  {
   "cell_type": "code",
   "execution_count": null,
   "id": "53fca3ab-5d62-4319-b6ba-5ba04ca01f32",
   "metadata": {},
   "outputs": [],
   "source": [
    "!python train_iq.py --env halfcheetah --demos 10 --init_temp 0.01 --seed 0"
   ]
  },
  {
   "cell_type": "code",
   "execution_count": null,
   "id": "90b7931b-0ed4-4c5d-a8b8-853135831da8",
   "metadata": {},
   "outputs": [],
   "source": [
    "!python train_iq.py --env hopper --demos 10 --init_temp 0.01 --seed 0"
   ]
  },
  {
   "cell_type": "code",
   "execution_count": null,
   "id": "35419e6a-cda3-42b0-90c2-51e17501254f",
   "metadata": {},
   "outputs": [],
   "source": [
    "!python train_iq.py --env ant --demos 10 --init_temp 0.001 --seed 0"
   ]
  },
  {
   "cell_type": "code",
   "execution_count": null,
   "id": "854b045e-baa6-46a4-82f5-57c6cf5e1350",
   "metadata": {},
   "outputs": [],
   "source": [
    "!python train_iq.py --env walker2d --demos 10 --init_temp 0.01 --seed 0"
   ]
  },
  {
   "cell_type": "code",
   "execution_count": null,
   "id": "14bd1820-13e8-49e3-bd32-41e047cfa75b",
   "metadata": {},
   "outputs": [],
   "source": [
    "!python train_iq.py --env humanoid --demos 10 --init_temp 0.3 --seed 0"
   ]
  },
  {
   "cell_type": "code",
   "execution_count": null,
   "id": "36f9751a-4f55-4e1a-885b-37c5c54f1b53",
   "metadata": {},
   "outputs": [],
   "source": []
  },
  {
   "cell_type": "code",
   "execution_count": null,
   "id": "1414edd3-04cd-40d9-8c3c-312a65d4f641",
   "metadata": {},
   "outputs": [],
   "source": []
  },
  {
   "cell_type": "code",
   "execution_count": null,
   "id": "1163658d-8dde-4409-ba1d-a711e2f0a73d",
   "metadata": {},
   "outputs": [],
   "source": [
    "!tensorboard --logdir logs/Ant-v2/2024-08-14_19-48-27_d10_s0"
   ]
  },
  {
   "cell_type": "code",
   "execution_count": null,
   "id": "d740535a-695e-49f3-ad46-3890c652db86",
   "metadata": {},
   "outputs": [],
   "source": []
  }
 ],
 "metadata": {
  "kernelspec": {
   "display_name": "Python 3 (ipykernel)",
   "language": "python",
   "name": "python3"
  },
  "language_info": {
   "codemirror_mode": {
    "name": "ipython",
    "version": 3
   },
   "file_extension": ".py",
   "mimetype": "text/x-python",
   "name": "python",
   "nbconvert_exporter": "python",
   "pygments_lexer": "ipython3",
   "version": "3.10.12"
  }
 },
 "nbformat": 4,
 "nbformat_minor": 5
}
